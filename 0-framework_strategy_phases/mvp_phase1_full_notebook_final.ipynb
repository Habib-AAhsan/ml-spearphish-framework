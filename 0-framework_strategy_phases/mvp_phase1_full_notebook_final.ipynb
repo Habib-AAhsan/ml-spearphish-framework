{
 "cells": [
  {
   "cell_type": "markdown",
   "id": "3e675c0b",
   "metadata": {},
   "source": [
    "# 🧩 MVP in Phase 1: Minimum Viable Product\n",
    "\n",
    "⚙️ **Phase 1: Robust, Interpretable Traditional Models (MVP)**\n",
    "\n",
    "This is your first working version of the spear-phishing detection system."
   ]
  },
  {
   "cell_type": "markdown",
   "id": "5582b941",
   "metadata": {},
   "source": [
    "## 🎯 Key Objectives\n",
    "\n",
    "| Objective | Why |\n",
    "|----------|-----|\n",
    "| 🛠️ Build working pipeline | From raw email → clean text → features → prediction |\n",
    "| ⏱️ Do it quickly | Get feedback before building complex deep learning |\n",
    "| 👨‍💼 Show stakeholders or users | Validate the idea and usefulness |\n",
    "| 📈 Create a benchmark | Compare with advanced models later (BERT, etc.) |"
   ]
  },
  {
   "cell_type": "markdown",
   "id": "ad42440e",
   "metadata": {},
   "source": [
    "## 🧠 MVP Workflow Overview\n",
    "\n",
    "| Step | Tool |\n",
    "|------|------|\n",
    "| Load + clean emails | `pandas`, `preprocess_text()` |\n",
    "| Convert text to vectors | `TfidfVectorizer` |\n",
    "| Train a basic model | `LogisticRegression` or `XGBoost` |\n",
    "| Predict & evaluate | `classification_report`, `confusion_matrix` |\n",
    "| Optional: Wrap in CLI/UI | Flask, CLI or Gradio |"
   ]
  },
  {
   "cell_type": "markdown",
   "id": "7d8b38ce",
   "metadata": {},
   "source": [
    "## 🧪 Code: Train and Evaluate MVP Model"
   ]
  },
  {
   "cell_type": "code",
   "execution_count": null,
   "id": "fe262510",
   "metadata": {},
   "outputs": [],
   "source": [
    "import pandas as pd\n",
    "from sklearn.feature_extraction.text import TfidfVectorizer\n",
    "from sklearn.linear_model import LogisticRegression\n",
    "from sklearn.model_selection import train_test_split\n",
    "from sklearn.metrics import classification_report, confusion_matrix\n",
    "import matplotlib.pyplot as plt\n",
    "import seaborn as sns\n",
    "\n",
    "# Load cleaned dataset\n",
    "df = pd.read_csv(\"data/phishing_email_clean.csv\")\n",
    "\n",
    "# Vectorize\n",
    "vectorizer = TfidfVectorizer(max_features=3000)\n",
    "X = vectorizer.fit_transform(df['clean_text'])\n",
    "y = df['label']\n",
    "\n",
    "# Split\n",
    "X_train, X_test, y_train, y_test = train_test_split(X, y, test_size=0.2, random_state=42)\n",
    "\n",
    "# Train\n",
    "model = LogisticRegression(max_iter=1000)\n",
    "model.fit(X_train, y_train)\n",
    "y_pred = model.predict(X_test)\n",
    "\n",
    "# Evaluate\n",
    "print(classification_report(y_test, y_pred))\n",
    "cm = confusion_matrix(y_test, y_pred)\n",
    "sns.heatmap(cm, annot=True, fmt='d', cmap='Blues')\n",
    "plt.title('Confusion Matrix')\n",
    "plt.xlabel('Predicted')\n",
    "plt.ylabel('Actual')\n",
    "plt.show()"
   ]
  },
  {
   "cell_type": "markdown",
   "id": "d0ee8e8c",
   "metadata": {},
   "source": [
    "## 🧱 Architecture Diagram (Conceptual)\n",
    "\n",
    "```\n",
    "+------------------+     +----------------+     +----------------------+     +-------------------+\n",
    "|  Raw Emails      | --> | Preprocessing  | --> | TF-IDF Vectorization | --> | ML Classifier     |\n",
    "| (text_combined)  |     | (clean_text)   |     | (3000 features)      |     | (LogReg/XGBoost)  |\n",
    "+------------------+     +----------------+     +----------------------+     +-------------------+\n",
    "                                                                                     |\n",
    "                                                                                     v\n",
    "                                                                         +----------------------+\n",
    "                                                                         | Prediction: Phish?   |\n",
    "                                                                         +----------------------+\n",
    "```"
   ]
  },
  {
   "cell_type": "markdown",
   "id": "c31317f4",
   "metadata": {},
   "source": [
    "## 🚀 Phase 2 and Beyond\n",
    "\n",
    "- **Phase 2** → Fine-tune BERT/DistilBERT for deep NLP understanding\n",
    "- **Phase 3** → Real-time feedback + active learning (e.g., retrain on flagged emails)\n",
    "- **Phase 4** → Add retaliation/intelligence module: quarantine, alert, or auto-response\n",
    "\n",
    "Would include monitoring, confidence scoring, and optional honeypot-style traps."
   ]
  },
  {
   "cell_type": "code",
   "execution_count": null,
   "id": "c41c5c93",
   "metadata": {},
   "outputs": [],
   "source": [
    "# 📈 ROC & Precision-Recall Curves\n",
    "from sklearn.metrics import roc_curve, auc, precision_recall_curve\n",
    "import numpy as np\n",
    "\n",
    "# Compute ROC curve and AUC\n",
    "y_probs = model.predict_proba(X_test)[:, 1]\n",
    "fpr, tpr, _ = roc_curve(y_test, y_probs)\n",
    "roc_auc = auc(fpr, tpr)\n",
    "\n",
    "plt.figure()\n",
    "plt.plot(fpr, tpr, label=f'ROC curve (area = {roc_auc:.2f}')\n",
    "plt.plot([0, 1], [0, 1], 'k--')\n",
    "plt.xlabel('False Positive Rate')\n",
    "plt.ylabel('True Positive Rate')\n",
    "plt.title('ROC Curve')\n",
    "plt.legend(loc='lower right')\n",
    "plt.show()\n",
    "\n",
    "# Compute Precision-Recall curve\n",
    "precision, recall, _ = precision_recall_curve(y_test, y_probs)\n",
    "plt.figure()\n",
    "plt.plot(recall, precision)\n",
    "plt.xlabel('Recall')\n",
    "plt.ylabel('Precision')\n",
    "plt.title('Precision-Recall Curve')\n",
    "plt.show()"
   ]
  },
  {
   "cell_type": "code",
   "execution_count": null,
   "id": "628eb00f",
   "metadata": {},
   "outputs": [],
   "source": [
    "# 🔄 Automated Data Ingestion Example\n",
    "import os\n",
    "def ingest_data_from_folder(folder_path):\n",
    "    emails = []\n",
    "    for filename in os.listdir(folder_path):\n",
    "        if filename.endswith('.txt'):\n",
    "            with open(os.path.join(folder_path, filename), 'r', encoding='utf-8') as f:\n",
    "                content = f.read()\n",
    "                emails.append(content)\n",
    "    return pd.DataFrame({'text_combined': emails})\n",
    "\n",
    "# Example: df_new = ingest_data_from_folder('new_emails/')"
   ]
  },
  {
   "cell_type": "markdown",
   "id": "1078a7c3",
   "metadata": {},
   "source": [
    "## 🔁 Retaliation Logic Prototype (Concept)\n",
    "\n",
    "- If model prediction = phishing **AND** confidence > threshold:\n",
    "  - 🚨 Alert security team\n",
    "  - 🧪 Log IP/domain to threat database\n",
    "  - 🔒 Move email to quarantine folder\n",
    "  - ⚠️ Optional: Notify sender if internal\n",
    "\n",
    "**Rule Engine Example:**\n",
    "```python\n",
    "if prediction == 'phishing' and confidence_score > 0.95:\n",
    "    alert_security_team(email_id)\n",
    "    quarantine_email(email_id)\n",
    "    log_threat(sender_ip, domain)\n",
    "```\n",
    "\n",
    "Long-term goal: Use reinforcement learning to optimize responses based on outcomes."
   ]
  }
 ],
 "metadata": {},
 "nbformat": 4,
 "nbformat_minor": 5
}
